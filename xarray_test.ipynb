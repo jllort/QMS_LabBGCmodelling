{
 "cells": [
  {
   "cell_type": "markdown",
   "metadata": {},
   "source": [
    "## Loading Data\n",
    "\n",
    "\n",
    "### Load all 39 years of ERA-Interim 3-hourly `tas` data\n",
    "\n",
    "ERA-Interim is stored under `/g/data/ub4`\n",
    "\n",
    "The variable for surface air temperature is `tas`, which you can find under `/g/data/ub4/erai/netcdf/3hr/atmos/oper_fc_sfc/v01/tas/tas*.nc`.\n",
    "\n",
    "If you can't access ERA-Interim, try the ACCESS CMIP5 data under `/g/data/rr3/publications/CMIP5/output1/CSIRO-BOM/ACCESS1-3/historical/3hr/atmos/3hr/r1i1p1/latest/tas/tas*.nc`\n",
    "\n",
    "If you're working on your laptop instead of VDI, you can access data remotely over OpenDAP - `http://dapds00.nci.org.au/thredds/dodsC/rr3/CMIP5/output1/CSIRO-BOM/ACCESS1-3/historical/mon/atmos/Amon/r1i1p1/latest/tas/tas_Amon_ACCESS1-3_historical_r1i1p1_185001-200512.nc`\n",
    "\n",
    "#### Answer\n",
    "```\n",
    "import xarray\n",
    "erai_tas = xarray.open_mfdataset('/g/data/ub4/erai/netcdf/3hr/atmos/oper_fc_sfc/v01/tas/tas*.nc')\n",
    "```\n",
    "    \n",
    "[Xarray docs: netCDF](http://xarray.pydata.org/en/stable/io.html#netcdf)"
   ]
  },
  {
   "cell_type": "code",
   "execution_count": 1,
   "metadata": {},
   "outputs": [
    {
     "name": "stdout",
     "output_type": "stream",
     "text": [
      "/g/data/ub4/erai/netcdf/3hr/atmos/oper_fc_sfc/v01/tas/tas_3hrs_ERAI_historical_fc-sfc_19790101_19790131.nc\r\n",
      "/g/data/ub4/erai/netcdf/3hr/atmos/oper_fc_sfc/v01/tas/tas_3hrs_ERAI_historical_fc-sfc_19790201_19790228.nc\r\n",
      "/g/data/ub4/erai/netcdf/3hr/atmos/oper_fc_sfc/v01/tas/tas_3hrs_ERAI_historical_fc-sfc_19790301_19790331.nc\r\n",
      "/g/data/ub4/erai/netcdf/3hr/atmos/oper_fc_sfc/v01/tas/tas_3hrs_ERAI_historical_fc-sfc_19790401_19790430.nc\r\n",
      "/g/data/ub4/erai/netcdf/3hr/atmos/oper_fc_sfc/v01/tas/tas_3hrs_ERAI_historical_fc-sfc_19790501_19790531.nc\r\n",
      "/g/data/ub4/erai/netcdf/3hr/atmos/oper_fc_sfc/v01/tas/tas_3hrs_ERAI_historical_fc-sfc_19790601_19790630.nc\r\n",
      "/g/data/ub4/erai/netcdf/3hr/atmos/oper_fc_sfc/v01/tas/tas_3hrs_ERAI_historical_fc-sfc_19790701_19790731.nc\r\n",
      "/g/data/ub4/erai/netcdf/3hr/atmos/oper_fc_sfc/v01/tas/tas_3hrs_ERAI_historical_fc-sfc_19790801_19790831.nc\r\n",
      "/g/data/ub4/erai/netcdf/3hr/atmos/oper_fc_sfc/v01/tas/tas_3hrs_ERAI_historical_fc-sfc_19790901_19790930.nc\r\n",
      "/g/data/ub4/erai/netcdf/3hr/atmos/oper_fc_sfc/v01/tas/tas_3hrs_ERAI_historical_fc-sfc_19791001_19791031.nc\r\n",
      "ls: write error: Broken pipe\r\n"
     ]
    }
   ],
   "source": [
    "erai_tas_path = '/g/data/ub4/erai/netcdf/3hr/atmos/oper_fc_sfc/v01/tas/tas*.nc'\n",
    "cmip_tas_path = '/g/data/rr3/publications/CMIP5/output1/CSIRO-BOM/ACCESS1-3/historical/3hr/atmos/3hr/r1i1p1/latest/tas/tas*.nc'\n",
    "cmip_tas_dap  = 'http://dapds00.nci.org.au/thredds/dodsC/rr3/CMIP5/output1/CSIRO-BOM/ACCESS1-3/historical/mon/atmos/Amon/r1i1p1/latest/tas/tas_Amon_ACCESS1-3_historical_r1i1p1_185001-200512.nc'\n",
    "\n",
    "! ls {erai_tas_path} | head"
   ]
  },
